{
 "cells": [
  {
   "cell_type": "code",
   "execution_count": 336,
   "metadata": {
    "collapsed": true
   },
   "outputs": [],
   "source": [
    "import pandas as pd\n",
    "import numpy as np\n",
    "from sklearn import preprocessing\n",
    "from scipy.stats import chi2_contingency\n",
    "import re"
   ]
  },
  {
   "cell_type": "code",
   "execution_count": 329,
   "metadata": {
    "collapsed": false
   },
   "outputs": [],
   "source": [
    "lusitania_data_location = '/Users/toddmoffett1/DSI/dsi_workspace/project-2/assets/lusitania.csv'\n",
    "#df = pd.read_csv(lusitania_data_location)"
   ]
  },
  {
   "cell_type": "code",
   "execution_count": 421,
   "metadata": {
    "collapsed": false,
    "scrolled": false
   },
   "outputs": [
    {
     "data": {
      "text/html": [
       "<div>\n",
       "<table border=\"1\" class=\"dataframe\">\n",
       "  <thead>\n",
       "    <tr style=\"text-align: right;\">\n",
       "      <th></th>\n",
       "      <th>fate</th>\n",
       "      <th>age</th>\n",
       "      <th>pclass</th>\n",
       "      <th>status</th>\n",
       "      <th>Cabin No.</th>\n",
       "      <th>Sex</th>\n",
       "      <th>sex</th>\n",
       "      <th>survived</th>\n",
       "      <th>deceased</th>\n",
       "    </tr>\n",
       "  </thead>\n",
       "  <tbody>\n",
       "    <tr>\n",
       "      <th>0</th>\n",
       "      <td>Lost</td>\n",
       "      <td>38.0</td>\n",
       "      <td>Crew</td>\n",
       "      <td>NaN</td>\n",
       "      <td>NaN</td>\n",
       "      <td>Male</td>\n",
       "      <td>1</td>\n",
       "      <td>0</td>\n",
       "      <td>1</td>\n",
       "    </tr>\n",
       "    <tr>\n",
       "      <th>1</th>\n",
       "      <td>Lost</td>\n",
       "      <td>37.0</td>\n",
       "      <td>Crew</td>\n",
       "      <td>NaN</td>\n",
       "      <td>NaN</td>\n",
       "      <td>Male</td>\n",
       "      <td>1</td>\n",
       "      <td>0</td>\n",
       "      <td>1</td>\n",
       "    </tr>\n",
       "    <tr>\n",
       "      <th>2</th>\n",
       "      <td>Saved</td>\n",
       "      <td>30.0</td>\n",
       "      <td>Crew</td>\n",
       "      <td>NaN</td>\n",
       "      <td>NaN</td>\n",
       "      <td>Male</td>\n",
       "      <td>1</td>\n",
       "      <td>1</td>\n",
       "      <td>0</td>\n",
       "    </tr>\n",
       "    <tr>\n",
       "      <th>3</th>\n",
       "      <td>Saved</td>\n",
       "      <td>25.0</td>\n",
       "      <td>Crew</td>\n",
       "      <td>NaN</td>\n",
       "      <td>NaN</td>\n",
       "      <td>Male</td>\n",
       "      <td>1</td>\n",
       "      <td>1</td>\n",
       "      <td>0</td>\n",
       "    </tr>\n",
       "    <tr>\n",
       "      <th>4</th>\n",
       "      <td>Saved</td>\n",
       "      <td>27.0</td>\n",
       "      <td>Crew</td>\n",
       "      <td>NaN</td>\n",
       "      <td>NaN</td>\n",
       "      <td>Male</td>\n",
       "      <td>1</td>\n",
       "      <td>1</td>\n",
       "      <td>0</td>\n",
       "    </tr>\n",
       "  </tbody>\n",
       "</table>\n",
       "</div>"
      ],
      "text/plain": [
       "    fate   age pclass status Cabin No.   Sex  sex  survived  deceased\n",
       "0   Lost  38.0   Crew    NaN       NaN  Male    1         0         1\n",
       "1   Lost  37.0   Crew    NaN       NaN  Male    1         0         1\n",
       "2  Saved  30.0   Crew    NaN       NaN  Male    1         1         0\n",
       "3  Saved  25.0   Crew    NaN       NaN  Male    1         1         0\n",
       "4  Saved  27.0   Crew    NaN       NaN  Male    1         1         0"
      ]
     },
     "execution_count": 421,
     "metadata": {},
     "output_type": "execute_result"
    }
   ],
   "source": [
    "df.head(5)"
   ]
  },
  {
   "cell_type": "markdown",
   "metadata": {},
   "source": [
    "# Data Cleaning"
   ]
  },
  {
   "cell_type": "markdown",
   "metadata": {},
   "source": [
    "### Drop Features/Columns"
   ]
  },
  {
   "cell_type": "code",
   "execution_count": 326,
   "metadata": {
    "collapsed": false
   },
   "outputs": [],
   "source": [
    "#df.drop('Survived', axis=1, inplace=True)\n",
    "#df.drop('Title', axis=1, inplace=True)\n",
    "#df.drop('Faily name', axis=1, inplace=True)\n",
    "#df.drop('Personal name', axis=1, inplace=True)\n",
    "#df.drop('Traveling Companions and other notes', axis=1, inplace=True)\n",
    "#df.drop('Body No.', axis=1, inplace=True)\n",
    "#df.drop('Passenger/Crew', axis=1, inplace=True)\n",
    "#df.drop('Survived', axis=1, inplace=True)"
   ]
  },
  {
   "cell_type": "markdown",
   "metadata": {},
   "source": [
    "### Fixed Age"
   ]
  },
  {
   "cell_type": "code",
   "execution_count": 14,
   "metadata": {
    "collapsed": false
   },
   "outputs": [],
   "source": [
    "#df['Age'] = df['Age'].str.replace(' \\?','.0')\n",
    "#df['Age'] = df['Age'].str.replace('(\\d\\d)\\?','\\\\1')\n",
    "#df['Age'] = df['Age'].str.replace('(\\d)\\?','\\\\1')\n",
    "#df['Age'] = df['Age'].str.replace('(...\\d\\d)','\\\\1')\n",
    "#df['Age'] = df['Age'].str.replace('\\?','30')\n",
    "#df['Age'] = df['Age'].str.replace('2_','20')\n",
    "#df['Age'] = df['Age'].str.replace('..-months','1')\n",
    "#df['Age'] = df['Age'].str.replace('Infant','1')\n",
    "#df['Age'] = df['Age'].str.replace('45 or 51','47')\n",
    "#df['Age'] = df['Age'].str.replace('51 or 47','49')\n",
    "#df['Age'] = df['Age'].str.replace('(\\d\\d)..(\\d\\d).','\\\\1')\n",
    "#df['Age'] = df['Age'].str.replace('(\\d)..(\\d).','\\\\1') "
   ]
  },
  {
   "cell_type": "markdown",
   "metadata": {},
   "source": [
    "### Replace Values and Features"
   ]
  },
  {
   "cell_type": "code",
   "execution_count": 243,
   "metadata": {
    "collapsed": false
   },
   "outputs": [],
   "source": [
    "#df['Fate'] = df['Fate'].str.replace('Saved \\(died from trauma\\)','Lost')\n",
    "#df['Department/Class_temp'] = df['Department/Class_temp'].str.replace('Deck','Crew')\n",
    "#df['Department/Class_temp'] = df['Department/Class_temp'].str.replace('Engineering','Crew')\n",
    "#df['Department/Class_temp'] = df['Department/Class_temp'].str.replace('Victualling','Crew')\n",
    "#df['Department/Class_temp'] = df['Department/Class_temp'].str.replace('Third \\(Distressed British Seaman\\)','Third')\n",
    "#df['Department/Class_temp'] = df['Department/Class_temp'].str.replace('Saloon','First')"
   ]
  },
  {
   "cell_type": "code",
   "execution_count": 228,
   "metadata": {
    "collapsed": true
   },
   "outputs": [],
   "source": [
    "#df['Age'] = df['Ages']"
   ]
  },
  {
   "cell_type": "markdown",
   "metadata": {},
   "source": [
    "### Binary value for string features"
   ]
  },
  {
   "cell_type": "code",
   "execution_count": null,
   "metadata": {
    "collapsed": false
   },
   "outputs": [],
   "source": [
    "#df['Survived'] = df['Fate'].apply(lambda x: 1 if x == 'Saved' else 0)"
   ]
  },
  {
   "cell_type": "code",
   "execution_count": 322,
   "metadata": {
    "collapsed": true
   },
   "outputs": [],
   "source": [
    "#df['deceased'] = df['Fate'].apply(lambda x: 1 if x == 'Lost' else 0)"
   ]
  },
  {
   "cell_type": "code",
   "execution_count": 267,
   "metadata": {
    "collapsed": true
   },
   "outputs": [],
   "source": [
    "# from sklearn import preprocessing\n",
    "#lb = preprocessing.LabelBinarizer()\n",
    "#df['sexes'] = lb.fit_transform(df['Sex'])"
   ]
  },
  {
   "cell_type": "markdown",
   "metadata": {},
   "source": [
    "# Data Filtering"
   ]
  },
  {
   "cell_type": "markdown",
   "metadata": {},
   "source": [
    "### Passenger Data"
   ]
  },
  {
   "cell_type": "code",
   "execution_count": 354,
   "metadata": {
    "collapsed": false,
    "scrolled": true
   },
   "outputs": [],
   "source": [
    "passengers = df[(df['pclass'] != 'Crew')]"
   ]
  },
  {
   "cell_type": "code",
   "execution_count": 360,
   "metadata": {
    "collapsed": false,
    "scrolled": true
   },
   "outputs": [
    {
     "data": {
      "text/html": [
       "<div>\n",
       "<table border=\"1\" class=\"dataframe\">\n",
       "  <thead>\n",
       "    <tr style=\"text-align: right;\">\n",
       "      <th></th>\n",
       "      <th>fate</th>\n",
       "      <th>age</th>\n",
       "      <th>pclass</th>\n",
       "      <th>status</th>\n",
       "      <th>Cabin No.</th>\n",
       "      <th>Sex</th>\n",
       "      <th>sex</th>\n",
       "      <th>survived</th>\n",
       "      <th>deceased</th>\n",
       "    </tr>\n",
       "  </thead>\n",
       "  <tbody>\n",
       "    <tr>\n",
       "      <th>387</th>\n",
       "      <td>Saved</td>\n",
       "      <td>19.0</td>\n",
       "      <td>First</td>\n",
       "      <td>Single</td>\n",
       "      <td>D 45</td>\n",
       "      <td>Male</td>\n",
       "      <td>1</td>\n",
       "      <td>1</td>\n",
       "      <td>0</td>\n",
       "    </tr>\n",
       "    <tr>\n",
       "      <th>388</th>\n",
       "      <td>Lost</td>\n",
       "      <td>46.0</td>\n",
       "      <td>First</td>\n",
       "      <td>Married</td>\n",
       "      <td>D 37</td>\n",
       "      <td>Male</td>\n",
       "      <td>1</td>\n",
       "      <td>0</td>\n",
       "      <td>1</td>\n",
       "    </tr>\n",
       "    <tr>\n",
       "      <th>389</th>\n",
       "      <td>Lost</td>\n",
       "      <td>58.0</td>\n",
       "      <td>First</td>\n",
       "      <td>Married</td>\n",
       "      <td>B 27</td>\n",
       "      <td>Male</td>\n",
       "      <td>1</td>\n",
       "      <td>0</td>\n",
       "      <td>1</td>\n",
       "    </tr>\n",
       "    <tr>\n",
       "      <th>390</th>\n",
       "      <td>Saved</td>\n",
       "      <td>46.0</td>\n",
       "      <td>First</td>\n",
       "      <td>Married</td>\n",
       "      <td>B 27</td>\n",
       "      <td>Female</td>\n",
       "      <td>0</td>\n",
       "      <td>1</td>\n",
       "      <td>0</td>\n",
       "    </tr>\n",
       "    <tr>\n",
       "      <th>391</th>\n",
       "      <td>Saved</td>\n",
       "      <td>42.0</td>\n",
       "      <td>First</td>\n",
       "      <td>Married</td>\n",
       "      <td>B 47, B 49 (regal suite and bath)</td>\n",
       "      <td>Female</td>\n",
       "      <td>0</td>\n",
       "      <td>1</td>\n",
       "      <td>0</td>\n",
       "    </tr>\n",
       "  </tbody>\n",
       "</table>\n",
       "</div>"
      ],
      "text/plain": [
       "      fate   age pclass   status                          Cabin No.     Sex  \\\n",
       "387  Saved  19.0  First   Single                               D 45    Male   \n",
       "388   Lost  46.0  First  Married                               D 37    Male   \n",
       "389   Lost  58.0  First  Married                               B 27    Male   \n",
       "390  Saved  46.0  First  Married                               B 27  Female   \n",
       "391  Saved  42.0  First  Married  B 47, B 49 (regal suite and bath)  Female   \n",
       "\n",
       "     sex  survived  deceased  \n",
       "387    1         1         0  \n",
       "388    1         0         1  \n",
       "389    1         0         1  \n",
       "390    0         1         0  \n",
       "391    0         1         0  "
      ]
     },
     "execution_count": 360,
     "metadata": {},
     "output_type": "execute_result"
    }
   ],
   "source": [
    "passengers.head()"
   ]
  },
  {
   "cell_type": "code",
   "execution_count": 402,
   "metadata": {
    "collapsed": false
   },
   "outputs": [
    {
     "data": {
      "text/plain": [
       "31.97848731884058"
      ]
     },
     "execution_count": 402,
     "metadata": {},
     "output_type": "execute_result"
    }
   ],
   "source": [
    "np.mean(passengers['age'])"
   ]
  },
  {
   "cell_type": "code",
   "execution_count": 415,
   "metadata": {
    "collapsed": false
   },
   "outputs": [
    {
     "data": {
      "text/plain": [
       "775"
      ]
     },
     "execution_count": 415,
     "metadata": {},
     "output_type": "execute_result"
    }
   ],
   "source": [
    "np.sum((passengers['Sex'] == \"Male\"))"
   ]
  },
  {
   "cell_type": "code",
   "execution_count": 416,
   "metadata": {
    "collapsed": false
   },
   "outputs": [
    {
     "data": {
      "text/plain": [
       "493"
      ]
     },
     "execution_count": 416,
     "metadata": {},
     "output_type": "execute_result"
    }
   ],
   "source": [
    "np.sum((passengers['Sex'] == 'Female'))"
   ]
  },
  {
   "cell_type": "markdown",
   "metadata": {},
   "source": [
    "### Crew Data"
   ]
  },
  {
   "cell_type": "code",
   "execution_count": 395,
   "metadata": {
    "collapsed": true
   },
   "outputs": [],
   "source": [
    "crew = df[(df['pclass'] == 'Crew')]"
   ]
  },
  {
   "cell_type": "code",
   "execution_count": 396,
   "metadata": {
    "collapsed": false,
    "scrolled": true
   },
   "outputs": [
    {
     "data": {
      "text/html": [
       "<div>\n",
       "<table border=\"1\" class=\"dataframe\">\n",
       "  <thead>\n",
       "    <tr style=\"text-align: right;\">\n",
       "      <th></th>\n",
       "      <th>fate</th>\n",
       "      <th>age</th>\n",
       "      <th>pclass</th>\n",
       "      <th>status</th>\n",
       "      <th>Cabin No.</th>\n",
       "      <th>Sex</th>\n",
       "      <th>sex</th>\n",
       "      <th>survived</th>\n",
       "      <th>deceased</th>\n",
       "    </tr>\n",
       "  </thead>\n",
       "  <tbody>\n",
       "    <tr>\n",
       "      <th>0</th>\n",
       "      <td>Lost</td>\n",
       "      <td>38.0</td>\n",
       "      <td>Crew</td>\n",
       "      <td>NaN</td>\n",
       "      <td>NaN</td>\n",
       "      <td>Male</td>\n",
       "      <td>1</td>\n",
       "      <td>0</td>\n",
       "      <td>1</td>\n",
       "    </tr>\n",
       "    <tr>\n",
       "      <th>1</th>\n",
       "      <td>Lost</td>\n",
       "      <td>37.0</td>\n",
       "      <td>Crew</td>\n",
       "      <td>NaN</td>\n",
       "      <td>NaN</td>\n",
       "      <td>Male</td>\n",
       "      <td>1</td>\n",
       "      <td>0</td>\n",
       "      <td>1</td>\n",
       "    </tr>\n",
       "    <tr>\n",
       "      <th>2</th>\n",
       "      <td>Saved</td>\n",
       "      <td>30.0</td>\n",
       "      <td>Crew</td>\n",
       "      <td>NaN</td>\n",
       "      <td>NaN</td>\n",
       "      <td>Male</td>\n",
       "      <td>1</td>\n",
       "      <td>1</td>\n",
       "      <td>0</td>\n",
       "    </tr>\n",
       "    <tr>\n",
       "      <th>3</th>\n",
       "      <td>Saved</td>\n",
       "      <td>25.0</td>\n",
       "      <td>Crew</td>\n",
       "      <td>NaN</td>\n",
       "      <td>NaN</td>\n",
       "      <td>Male</td>\n",
       "      <td>1</td>\n",
       "      <td>1</td>\n",
       "      <td>0</td>\n",
       "    </tr>\n",
       "    <tr>\n",
       "      <th>4</th>\n",
       "      <td>Saved</td>\n",
       "      <td>27.0</td>\n",
       "      <td>Crew</td>\n",
       "      <td>NaN</td>\n",
       "      <td>NaN</td>\n",
       "      <td>Male</td>\n",
       "      <td>1</td>\n",
       "      <td>1</td>\n",
       "      <td>0</td>\n",
       "    </tr>\n",
       "  </tbody>\n",
       "</table>\n",
       "</div>"
      ],
      "text/plain": [
       "    fate   age pclass status Cabin No.   Sex  sex  survived  deceased\n",
       "0   Lost  38.0   Crew    NaN       NaN  Male    1         0         1\n",
       "1   Lost  37.0   Crew    NaN       NaN  Male    1         0         1\n",
       "2  Saved  30.0   Crew    NaN       NaN  Male    1         1         0\n",
       "3  Saved  25.0   Crew    NaN       NaN  Male    1         1         0\n",
       "4  Saved  27.0   Crew    NaN       NaN  Male    1         1         0"
      ]
     },
     "execution_count": 396,
     "metadata": {},
     "output_type": "execute_result"
    }
   ],
   "source": [
    "crew.head()"
   ]
  },
  {
   "cell_type": "code",
   "execution_count": 419,
   "metadata": {
    "collapsed": false
   },
   "outputs": [
    {
     "data": {
      "text/plain": [
       "34.181372549019606"
      ]
     },
     "execution_count": 419,
     "metadata": {},
     "output_type": "execute_result"
    }
   ],
   "source": [
    "np.mean(crew['age'])"
   ]
  },
  {
   "cell_type": "code",
   "execution_count": 417,
   "metadata": {
    "collapsed": false,
    "scrolled": true
   },
   "outputs": [
    {
     "data": {
      "text/plain": [
       "668"
      ]
     },
     "execution_count": 417,
     "metadata": {},
     "output_type": "execute_result"
    }
   ],
   "source": [
    "np.sum((crew['Sex'] == \"Male\"))"
   ]
  },
  {
   "cell_type": "code",
   "execution_count": 418,
   "metadata": {
    "collapsed": false
   },
   "outputs": [
    {
     "data": {
      "text/plain": [
       "25"
      ]
     },
     "execution_count": 418,
     "metadata": {},
     "output_type": "execute_result"
    }
   ],
   "source": [
    "np.sum((crew['Sex'] == \"Female\"))"
   ]
  },
  {
   "cell_type": "markdown",
   "metadata": {},
   "source": [
    "# Data Tables"
   ]
  },
  {
   "cell_type": "code",
   "execution_count": 394,
   "metadata": {
    "collapsed": false,
    "scrolled": true
   },
   "outputs": [
    {
     "data": {
      "text/html": [
       "<div>\n",
       "<table border=\"1\" class=\"dataframe\">\n",
       "  <thead>\n",
       "    <tr style=\"text-align: right;\">\n",
       "      <th></th>\n",
       "      <th></th>\n",
       "      <th>age</th>\n",
       "    </tr>\n",
       "    <tr>\n",
       "      <th>sex</th>\n",
       "      <th>pclass</th>\n",
       "      <th></th>\n",
       "    </tr>\n",
       "  </thead>\n",
       "  <tbody>\n",
       "    <tr>\n",
       "      <th rowspan=\"4\" valign=\"top\">0</th>\n",
       "      <th>Crew</th>\n",
       "      <td>37.523810</td>\n",
       "    </tr>\n",
       "    <tr>\n",
       "      <th>First</th>\n",
       "      <td>37.011628</td>\n",
       "    </tr>\n",
       "    <tr>\n",
       "      <th>Second</th>\n",
       "      <td>29.595652</td>\n",
       "    </tr>\n",
       "    <tr>\n",
       "      <th>Third</th>\n",
       "      <td>28.927184</td>\n",
       "    </tr>\n",
       "    <tr>\n",
       "      <th rowspan=\"5\" valign=\"top\">1</th>\n",
       "      <th>Crew</th>\n",
       "      <td>33.797814</td>\n",
       "    </tr>\n",
       "    <tr>\n",
       "      <th>First</th>\n",
       "      <td>39.877551</td>\n",
       "    </tr>\n",
       "    <tr>\n",
       "      <th>Second</th>\n",
       "      <td>29.165236</td>\n",
       "    </tr>\n",
       "    <tr>\n",
       "      <th>Stowaway</th>\n",
       "      <td>NaN</td>\n",
       "    </tr>\n",
       "    <tr>\n",
       "      <th>Third</th>\n",
       "      <td>30.168945</td>\n",
       "    </tr>\n",
       "  </tbody>\n",
       "</table>\n",
       "</div>"
      ],
      "text/plain": [
       "                    age\n",
       "sex pclass             \n",
       "0   Crew      37.523810\n",
       "    First     37.011628\n",
       "    Second    29.595652\n",
       "    Third     28.927184\n",
       "1   Crew      33.797814\n",
       "    First     39.877551\n",
       "    Second    29.165236\n",
       "    Stowaway        NaN\n",
       "    Third     30.168945"
      ]
     },
     "execution_count": 394,
     "metadata": {},
     "output_type": "execute_result"
    }
   ],
   "source": [
    "sex_age = df.pivot_table(index=['sex','pclass'], values=['age'] , aggfunc=np.mean)#, margins=True, margins_name='Total')\n",
    "sex_age"
   ]
  },
  {
   "cell_type": "code",
   "execution_count": 400,
   "metadata": {
    "collapsed": false
   },
   "outputs": [
    {
     "data": {
      "text/plain": [
       "34.181372549019606"
      ]
     },
     "execution_count": 400,
     "metadata": {},
     "output_type": "execute_result"
    }
   ],
   "source": [
    "np.mean(crew['age'])"
   ]
  },
  {
   "cell_type": "code",
   "execution_count": 216,
   "metadata": {
    "collapsed": true
   },
   "outputs": [
    {
     "name": "stdout",
     "output_type": "stream",
     "text": [
      "<class 'pandas.core.frame.DataFrame'>\n",
      "RangeIndex: 1961 entries, 0 to 1960\n",
      "Data columns (total 7 columns):\n",
      "Fate                1961 non-null object\n",
      "Age                 1308 non-null object\n",
      "Department/Class    1961 non-null object\n",
      "Status              795 non-null object\n",
      "Cabin No.           329 non-null object\n",
      "Sex                 1961 non-null object\n",
      "all_ages            1308 non-null float64\n",
      "dtypes: float64(1), object(6)\n",
      "memory usage: 107.3+ KB\n"
     ]
    }
   ],
   "source": [
    "df.info()"
   ]
  },
  {
   "cell_type": "code",
   "execution_count": 406,
   "metadata": {
    "collapsed": false,
    "scrolled": true
   },
   "outputs": [
    {
     "data": {
      "text/html": [
       "<div>\n",
       "<table border=\"1\" class=\"dataframe\">\n",
       "  <thead>\n",
       "    <tr>\n",
       "      <th></th>\n",
       "      <th></th>\n",
       "      <th colspan=\"2\" halign=\"left\">sum</th>\n",
       "      <th colspan=\"2\" halign=\"left\">mean</th>\n",
       "    </tr>\n",
       "    <tr>\n",
       "      <th></th>\n",
       "      <th></th>\n",
       "      <th>deceased</th>\n",
       "      <th>survived</th>\n",
       "      <th>deceased</th>\n",
       "      <th>survived</th>\n",
       "    </tr>\n",
       "    <tr>\n",
       "      <th>sex</th>\n",
       "      <th>pclass</th>\n",
       "      <th></th>\n",
       "      <th></th>\n",
       "      <th></th>\n",
       "      <th></th>\n",
       "    </tr>\n",
       "  </thead>\n",
       "  <tbody>\n",
       "    <tr>\n",
       "      <th rowspan=\"3\" valign=\"top\">0</th>\n",
       "      <th>First</th>\n",
       "      <td>57.0</td>\n",
       "      <td>34.0</td>\n",
       "      <td>0.626374</td>\n",
       "      <td>0.373626</td>\n",
       "    </tr>\n",
       "    <tr>\n",
       "      <th>Second</th>\n",
       "      <td>186.0</td>\n",
       "      <td>108.0</td>\n",
       "      <td>0.632653</td>\n",
       "      <td>0.367347</td>\n",
       "    </tr>\n",
       "    <tr>\n",
       "      <th>Third</th>\n",
       "      <td>68.0</td>\n",
       "      <td>40.0</td>\n",
       "      <td>0.629630</td>\n",
       "      <td>0.370370</td>\n",
       "    </tr>\n",
       "    <tr>\n",
       "      <th rowspan=\"4\" valign=\"top\">1</th>\n",
       "      <th>First</th>\n",
       "      <td>122.0</td>\n",
       "      <td>78.0</td>\n",
       "      <td>0.610000</td>\n",
       "      <td>0.390000</td>\n",
       "    </tr>\n",
       "    <tr>\n",
       "      <th>Second</th>\n",
       "      <td>188.0</td>\n",
       "      <td>119.0</td>\n",
       "      <td>0.612378</td>\n",
       "      <td>0.387622</td>\n",
       "    </tr>\n",
       "    <tr>\n",
       "      <th>Stowaway</th>\n",
       "      <td>3.0</td>\n",
       "      <td>0.0</td>\n",
       "      <td>1.000000</td>\n",
       "      <td>0.000000</td>\n",
       "    </tr>\n",
       "    <tr>\n",
       "      <th>Third</th>\n",
       "      <td>171.0</td>\n",
       "      <td>94.0</td>\n",
       "      <td>0.645283</td>\n",
       "      <td>0.354717</td>\n",
       "    </tr>\n",
       "    <tr>\n",
       "      <th>All</th>\n",
       "      <th></th>\n",
       "      <td>795.0</td>\n",
       "      <td>473.0</td>\n",
       "      <td>0.626972</td>\n",
       "      <td>0.373028</td>\n",
       "    </tr>\n",
       "  </tbody>\n",
       "</table>\n",
       "</div>"
      ],
      "text/plain": [
       "                  sum               mean          \n",
       "             deceased survived  deceased  survived\n",
       "sex pclass                                        \n",
       "0   First        57.0     34.0  0.626374  0.373626\n",
       "    Second      186.0    108.0  0.632653  0.367347\n",
       "    Third        68.0     40.0  0.629630  0.370370\n",
       "1   First       122.0     78.0  0.610000  0.390000\n",
       "    Second      188.0    119.0  0.612378  0.387622\n",
       "    Stowaway      3.0      0.0  1.000000  0.000000\n",
       "    Third       171.0     94.0  0.645283  0.354717\n",
       "All             795.0    473.0  0.626972  0.373028"
      ]
     },
     "execution_count": 406,
     "metadata": {},
     "output_type": "execute_result"
    }
   ],
   "source": [
    "passenger_survive_total = passengers.pivot_table(values=['deceased','survived'], index=['sex','pclass'], aggfunc=[np.sum, np.mean],  margins_name='Total', margins=True)\n",
    "passenger_survive_total"
   ]
  },
  {
   "cell_type": "code",
   "execution_count": 376,
   "metadata": {
    "collapsed": false
   },
   "outputs": [
    {
     "data": {
      "text/html": [
       "<div>\n",
       "<table border=\"1\" class=\"dataframe\">\n",
       "  <thead>\n",
       "    <tr style=\"text-align: right;\">\n",
       "      <th>survived</th>\n",
       "      <th>0</th>\n",
       "      <th>1</th>\n",
       "    </tr>\n",
       "    <tr>\n",
       "      <th>pclass</th>\n",
       "      <th></th>\n",
       "      <th></th>\n",
       "    </tr>\n",
       "  </thead>\n",
       "  <tbody>\n",
       "    <tr>\n",
       "      <th>First</th>\n",
       "      <td>179</td>\n",
       "      <td>112</td>\n",
       "    </tr>\n",
       "    <tr>\n",
       "      <th>Second</th>\n",
       "      <td>374</td>\n",
       "      <td>227</td>\n",
       "    </tr>\n",
       "    <tr>\n",
       "      <th>Stowaway</th>\n",
       "      <td>3</td>\n",
       "      <td>0</td>\n",
       "    </tr>\n",
       "    <tr>\n",
       "      <th>Third</th>\n",
       "      <td>239</td>\n",
       "      <td>134</td>\n",
       "    </tr>\n",
       "  </tbody>\n",
       "</table>\n",
       "</div>"
      ],
      "text/plain": [
       "survived    0    1\n",
       "pclass            \n",
       "First     179  112\n",
       "Second    374  227\n",
       "Stowaway    3    0\n",
       "Third     239  134"
      ]
     },
     "execution_count": 376,
     "metadata": {},
     "output_type": "execute_result"
    }
   ],
   "source": [
    "class_survive = pd.crosstab(passengers['pclass'] ,passengers['survived'])\n",
    "class_survive"
   ]
  },
  {
   "cell_type": "code",
   "execution_count": 384,
   "metadata": {
    "collapsed": true
   },
   "outputs": [],
   "source": [
    "chisq_value, pvalue, dof, expected = chi2_contingency(class_survive)"
   ]
  },
  {
   "cell_type": "code",
   "execution_count": 385,
   "metadata": {
    "collapsed": false
   },
   "outputs": [
    {
     "name": "stdout",
     "output_type": "stream",
     "text": [
      "expected [[ 182.44873817  108.55126183]\n",
      " [ 376.80993691  224.19006309]\n",
      " [   1.88091483    1.11908517]\n",
      " [ 233.86041009  139.13958991]]\n",
      "('chi score', 2.3186388023635582)\n",
      "('pvalue', 0.50895961443200899)\n"
     ]
    }
   ],
   "source": [
    "print 'expected', expected\n",
    "\n",
    "print ('chi score', chisq_value)\n",
    "\n",
    "print ('pvalue', pvalue)"
   ]
  },
  {
   "cell_type": "code",
   "execution_count": 386,
   "metadata": {
    "collapsed": false
   },
   "outputs": [
    {
     "data": {
      "text/html": [
       "<div>\n",
       "<table border=\"1\" class=\"dataframe\">\n",
       "  <thead>\n",
       "    <tr style=\"text-align: right;\">\n",
       "      <th>survived</th>\n",
       "      <th>0</th>\n",
       "      <th>1</th>\n",
       "    </tr>\n",
       "    <tr>\n",
       "      <th>Sex</th>\n",
       "      <th></th>\n",
       "      <th></th>\n",
       "    </tr>\n",
       "  </thead>\n",
       "  <tbody>\n",
       "    <tr>\n",
       "      <th>Female</th>\n",
       "      <td>311</td>\n",
       "      <td>182</td>\n",
       "    </tr>\n",
       "    <tr>\n",
       "      <th>Male</th>\n",
       "      <td>484</td>\n",
       "      <td>291</td>\n",
       "    </tr>\n",
       "  </tbody>\n",
       "</table>\n",
       "</div>"
      ],
      "text/plain": [
       "survived    0    1\n",
       "Sex               \n",
       "Female    311  182\n",
       "Male      484  291"
      ]
     },
     "execution_count": 386,
     "metadata": {},
     "output_type": "execute_result"
    }
   ],
   "source": [
    "sex_survive = pd.crosstab(passengers['Sex'] ,passengers['survived'])\n",
    "sex_survive"
   ]
  },
  {
   "cell_type": "code",
   "execution_count": 387,
   "metadata": {
    "collapsed": true
   },
   "outputs": [],
   "source": [
    "chisq_value, pvalue, dof, expected = chi2_contingency(sex_survive)"
   ]
  },
  {
   "cell_type": "code",
   "execution_count": 408,
   "metadata": {
    "collapsed": false
   },
   "outputs": [
    {
     "name": "stdout",
     "output_type": "stream",
     "text": [
      "chi score 0.0279314999598\n",
      "pvalue 0.867269966891\n"
     ]
    }
   ],
   "source": [
    "#print 'expected', expected\n",
    "\n",
    "print 'chi score', chisq_value\n",
    "\n",
    "print 'pvalue', pvalue"
   ]
  },
  {
   "cell_type": "code",
   "execution_count": null,
   "metadata": {
    "collapsed": true
   },
   "outputs": [],
   "source": []
  }
 ],
 "metadata": {
  "kernelspec": {
   "display_name": "Python [conda env:py27]",
   "language": "python",
   "name": "conda-env-py27-py"
  }
 },
 "nbformat": 4,
 "nbformat_minor": 1
}
